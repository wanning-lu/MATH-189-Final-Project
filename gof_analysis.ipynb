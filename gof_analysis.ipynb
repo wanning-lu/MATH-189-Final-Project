{
 "cells": [
  {
   "cell_type": "code",
   "execution_count": 1,
   "metadata": {},
   "outputs": [],
   "source": [
    "%%capture\n",
    "%run merging_data.ipynb"
   ]
  },
  {
   "cell_type": "code",
   "execution_count": 2,
   "metadata": {},
   "outputs": [
    {
     "data": {
      "text/html": [
       "<div>\n",
       "<style scoped>\n",
       "    .dataframe tbody tr th:only-of-type {\n",
       "        vertical-align: middle;\n",
       "    }\n",
       "\n",
       "    .dataframe tbody tr th {\n",
       "        vertical-align: top;\n",
       "    }\n",
       "\n",
       "    .dataframe thead th {\n",
       "        text-align: right;\n",
       "    }\n",
       "</style>\n",
       "<table border=\"1\" class=\"dataframe\">\n",
       "  <thead>\n",
       "    <tr style=\"text-align: right;\">\n",
       "      <th></th>\n",
       "      <th>City</th>\n",
       "      <th>status</th>\n",
       "      <th>Household Income</th>\n",
       "      <th>All</th>\n",
       "      <th>African American</th>\n",
       "      <th>American Indian</th>\n",
       "      <th>Hispanic/ Latinx</th>\n",
       "      <th>Pacific Islander</th>\n",
       "      <th>Asian</th>\n",
       "      <th>White</th>\n",
       "      <th>Domestic Unknown</th>\n",
       "      <th>Int'l</th>\n",
       "      <th>Female</th>\n",
       "      <th>Male</th>\n",
       "      <th>Other</th>\n",
       "      <th>Unknown</th>\n",
       "      <th>Measure Values</th>\n",
       "    </tr>\n",
       "  </thead>\n",
       "  <tbody>\n",
       "    <tr>\n",
       "      <th>0</th>\n",
       "      <td>Alameda</td>\n",
       "      <td>Adm</td>\n",
       "      <td>131116</td>\n",
       "      <td>220.0</td>\n",
       "      <td>10.0</td>\n",
       "      <td>0.0</td>\n",
       "      <td>8.0</td>\n",
       "      <td>0.0</td>\n",
       "      <td>140.0</td>\n",
       "      <td>39.0</td>\n",
       "      <td>3.0</td>\n",
       "      <td>0.0</td>\n",
       "      <td>120.0</td>\n",
       "      <td>98.0</td>\n",
       "      <td>0.0</td>\n",
       "      <td>0.0</td>\n",
       "      <td>3.949851</td>\n",
       "    </tr>\n",
       "    <tr>\n",
       "      <th>1</th>\n",
       "      <td>Alameda</td>\n",
       "      <td>App</td>\n",
       "      <td>131116</td>\n",
       "      <td>292.0</td>\n",
       "      <td>19.0</td>\n",
       "      <td>0.0</td>\n",
       "      <td>14.0</td>\n",
       "      <td>0.0</td>\n",
       "      <td>174.0</td>\n",
       "      <td>52.0</td>\n",
       "      <td>5.0</td>\n",
       "      <td>0.0</td>\n",
       "      <td>158.0</td>\n",
       "      <td>132.0</td>\n",
       "      <td>0.0</td>\n",
       "      <td>0.0</td>\n",
       "      <td>3.950483</td>\n",
       "    </tr>\n",
       "    <tr>\n",
       "      <th>2</th>\n",
       "      <td>Alhambra</td>\n",
       "      <td>Adm</td>\n",
       "      <td>72406</td>\n",
       "      <td>284.0</td>\n",
       "      <td>0.0</td>\n",
       "      <td>0.0</td>\n",
       "      <td>15.0</td>\n",
       "      <td>0.0</td>\n",
       "      <td>255.0</td>\n",
       "      <td>0.0</td>\n",
       "      <td>0.0</td>\n",
       "      <td>0.0</td>\n",
       "      <td>151.0</td>\n",
       "      <td>123.0</td>\n",
       "      <td>0.0</td>\n",
       "      <td>8.0</td>\n",
       "      <td>3.743325</td>\n",
       "    </tr>\n",
       "    <tr>\n",
       "      <th>3</th>\n",
       "      <td>Alhambra</td>\n",
       "      <td>App</td>\n",
       "      <td>72406</td>\n",
       "      <td>381.0</td>\n",
       "      <td>0.0</td>\n",
       "      <td>0.0</td>\n",
       "      <td>44.0</td>\n",
       "      <td>0.0</td>\n",
       "      <td>317.0</td>\n",
       "      <td>0.0</td>\n",
       "      <td>0.0</td>\n",
       "      <td>0.0</td>\n",
       "      <td>203.0</td>\n",
       "      <td>164.0</td>\n",
       "      <td>0.0</td>\n",
       "      <td>10.0</td>\n",
       "      <td>3.743359</td>\n",
       "    </tr>\n",
       "    <tr>\n",
       "      <th>4</th>\n",
       "      <td>Anaheim</td>\n",
       "      <td>Adm</td>\n",
       "      <td>85133</td>\n",
       "      <td>447.0</td>\n",
       "      <td>4.0</td>\n",
       "      <td>0.0</td>\n",
       "      <td>213.0</td>\n",
       "      <td>0.0</td>\n",
       "      <td>141.0</td>\n",
       "      <td>62.0</td>\n",
       "      <td>4.0</td>\n",
       "      <td>0.0</td>\n",
       "      <td>259.0</td>\n",
       "      <td>179.0</td>\n",
       "      <td>0.0</td>\n",
       "      <td>0.0</td>\n",
       "      <td>3.829754</td>\n",
       "    </tr>\n",
       "    <tr>\n",
       "      <th>...</th>\n",
       "      <td>...</td>\n",
       "      <td>...</td>\n",
       "      <td>...</td>\n",
       "      <td>...</td>\n",
       "      <td>...</td>\n",
       "      <td>...</td>\n",
       "      <td>...</td>\n",
       "      <td>...</td>\n",
       "      <td>...</td>\n",
       "      <td>...</td>\n",
       "      <td>...</td>\n",
       "      <td>...</td>\n",
       "      <td>...</td>\n",
       "      <td>...</td>\n",
       "      <td>...</td>\n",
       "      <td>...</td>\n",
       "      <td>...</td>\n",
       "    </tr>\n",
       "    <tr>\n",
       "      <th>2219</th>\n",
       "      <td>Whittier</td>\n",
       "      <td>App</td>\n",
       "      <td>91457</td>\n",
       "      <td>546.0</td>\n",
       "      <td>12.0</td>\n",
       "      <td>0.0</td>\n",
       "      <td>464.0</td>\n",
       "      <td>0.0</td>\n",
       "      <td>25.0</td>\n",
       "      <td>29.0</td>\n",
       "      <td>0.0</td>\n",
       "      <td>0.0</td>\n",
       "      <td>346.0</td>\n",
       "      <td>184.0</td>\n",
       "      <td>0.0</td>\n",
       "      <td>0.0</td>\n",
       "      <td>4.002486</td>\n",
       "    </tr>\n",
       "    <tr>\n",
       "      <th>2220</th>\n",
       "      <td>Yorba Linda</td>\n",
       "      <td>Adm</td>\n",
       "      <td>151534</td>\n",
       "      <td>102.0</td>\n",
       "      <td>0.0</td>\n",
       "      <td>0.0</td>\n",
       "      <td>15.0</td>\n",
       "      <td>0.0</td>\n",
       "      <td>50.0</td>\n",
       "      <td>26.0</td>\n",
       "      <td>7.0</td>\n",
       "      <td>0.0</td>\n",
       "      <td>56.0</td>\n",
       "      <td>39.0</td>\n",
       "      <td>0.0</td>\n",
       "      <td>0.0</td>\n",
       "      <td>4.002059</td>\n",
       "    </tr>\n",
       "    <tr>\n",
       "      <th>2221</th>\n",
       "      <td>Yorba Linda</td>\n",
       "      <td>App</td>\n",
       "      <td>151534</td>\n",
       "      <td>157.0</td>\n",
       "      <td>0.0</td>\n",
       "      <td>0.0</td>\n",
       "      <td>24.0</td>\n",
       "      <td>0.0</td>\n",
       "      <td>71.0</td>\n",
       "      <td>47.0</td>\n",
       "      <td>10.0</td>\n",
       "      <td>0.0</td>\n",
       "      <td>90.0</td>\n",
       "      <td>58.0</td>\n",
       "      <td>0.0</td>\n",
       "      <td>0.0</td>\n",
       "      <td>4.002059</td>\n",
       "    </tr>\n",
       "    <tr>\n",
       "      <th>2222</th>\n",
       "      <td>Yuba City</td>\n",
       "      <td>Adm</td>\n",
       "      <td>59588</td>\n",
       "      <td>96.0</td>\n",
       "      <td>0.0</td>\n",
       "      <td>0.0</td>\n",
       "      <td>24.0</td>\n",
       "      <td>0.0</td>\n",
       "      <td>47.0</td>\n",
       "      <td>17.0</td>\n",
       "      <td>0.0</td>\n",
       "      <td>0.0</td>\n",
       "      <td>59.0</td>\n",
       "      <td>36.0</td>\n",
       "      <td>0.0</td>\n",
       "      <td>0.0</td>\n",
       "      <td>4.003958</td>\n",
       "    </tr>\n",
       "    <tr>\n",
       "      <th>2223</th>\n",
       "      <td>Yuba City</td>\n",
       "      <td>App</td>\n",
       "      <td>59588</td>\n",
       "      <td>138.0</td>\n",
       "      <td>0.0</td>\n",
       "      <td>0.0</td>\n",
       "      <td>39.0</td>\n",
       "      <td>0.0</td>\n",
       "      <td>63.0</td>\n",
       "      <td>25.0</td>\n",
       "      <td>0.0</td>\n",
       "      <td>0.0</td>\n",
       "      <td>84.0</td>\n",
       "      <td>51.0</td>\n",
       "      <td>0.0</td>\n",
       "      <td>0.0</td>\n",
       "      <td>4.001924</td>\n",
       "    </tr>\n",
       "  </tbody>\n",
       "</table>\n",
       "<p>2224 rows × 17 columns</p>\n",
       "</div>"
      ],
      "text/plain": [
       "             City status  Household Income    All  African American  \\\n",
       "0         Alameda    Adm            131116  220.0              10.0   \n",
       "1         Alameda    App            131116  292.0              19.0   \n",
       "2        Alhambra    Adm             72406  284.0               0.0   \n",
       "3        Alhambra    App             72406  381.0               0.0   \n",
       "4         Anaheim    Adm             85133  447.0               4.0   \n",
       "...           ...    ...               ...    ...               ...   \n",
       "2219     Whittier    App             91457  546.0              12.0   \n",
       "2220  Yorba Linda    Adm            151534  102.0               0.0   \n",
       "2221  Yorba Linda    App            151534  157.0               0.0   \n",
       "2222    Yuba City    Adm             59588   96.0               0.0   \n",
       "2223    Yuba City    App             59588  138.0               0.0   \n",
       "\n",
       "      American Indian  Hispanic/ Latinx  Pacific Islander  Asian  White  \\\n",
       "0                 0.0               8.0               0.0  140.0   39.0   \n",
       "1                 0.0              14.0               0.0  174.0   52.0   \n",
       "2                 0.0              15.0               0.0  255.0    0.0   \n",
       "3                 0.0              44.0               0.0  317.0    0.0   \n",
       "4                 0.0             213.0               0.0  141.0   62.0   \n",
       "...               ...               ...               ...    ...    ...   \n",
       "2219              0.0             464.0               0.0   25.0   29.0   \n",
       "2220              0.0              15.0               0.0   50.0   26.0   \n",
       "2221              0.0              24.0               0.0   71.0   47.0   \n",
       "2222              0.0              24.0               0.0   47.0   17.0   \n",
       "2223              0.0              39.0               0.0   63.0   25.0   \n",
       "\n",
       "      Domestic Unknown  Int'l  Female   Male  Other  Unknown  Measure Values  \n",
       "0                  3.0    0.0   120.0   98.0    0.0      0.0        3.949851  \n",
       "1                  5.0    0.0   158.0  132.0    0.0      0.0        3.950483  \n",
       "2                  0.0    0.0   151.0  123.0    0.0      8.0        3.743325  \n",
       "3                  0.0    0.0   203.0  164.0    0.0     10.0        3.743359  \n",
       "4                  4.0    0.0   259.0  179.0    0.0      0.0        3.829754  \n",
       "...                ...    ...     ...    ...    ...      ...             ...  \n",
       "2219               0.0    0.0   346.0  184.0    0.0      0.0        4.002486  \n",
       "2220               7.0    0.0    56.0   39.0    0.0      0.0        4.002059  \n",
       "2221              10.0    0.0    90.0   58.0    0.0      0.0        4.002059  \n",
       "2222               0.0    0.0    59.0   36.0    0.0      0.0        4.003958  \n",
       "2223               0.0    0.0    84.0   51.0    0.0      0.0        4.001924  \n",
       "\n",
       "[2224 rows x 17 columns]"
      ]
     },
     "execution_count": 2,
     "metadata": {},
     "output_type": "execute_result"
    }
   ],
   "source": [
    "# Combining the datasets from 2016 to 2023\n",
    "\n",
    "dataframes_list = []\n",
    "\n",
    "for year in years:\n",
    "    dataframes_list.append(merged_years[year])\n",
    "\n",
    "combined_years = pd.concat(dataframes_list, ignore_index=True)\n",
    "\n",
    "combined_years"
   ]
  },
  {
   "cell_type": "markdown",
   "metadata": {},
   "source": [
    "#### 1. Gender"
   ]
  },
  {
   "cell_type": "markdown",
   "metadata": {},
   "source": [
    "In this test, we would focus on whether the admission counts are affected by genders. \n",
    "\n",
    "Null hypothesis $H_0$: The observed distribution of admissions by gender (Male and Female) matches the expected distribution based on the proportions of applications by gender."
   ]
  },
  {
   "cell_type": "markdown",
   "metadata": {},
   "source": [
    "**Test combining over years:**"
   ]
  },
  {
   "cell_type": "code",
   "execution_count": 3,
   "metadata": {},
   "outputs": [
    {
     "data": {
      "text/plain": [
       "Female    299198.0\n",
       "Male      215768.0\n",
       "dtype: float64"
      ]
     },
     "execution_count": 3,
     "metadata": {},
     "output_type": "execute_result"
    }
   ],
   "source": [
    "# Count the genders of applicants and addmissions\n",
    "observed_adm_gender = combined_years[combined_years['status'] == 'Adm'][['Female', 'Male']].sum()\n",
    "observed_app_gender = combined_years[combined_years['status'] == 'App'][['Female', 'Male']].sum()\n",
    "\n",
    "# Gender counts for applicants\n",
    "observed_app_gender"
   ]
  },
  {
   "cell_type": "code",
   "execution_count": 4,
   "metadata": {},
   "outputs": [
    {
     "data": {
      "text/plain": [
       "Female    200338.0\n",
       "Male      138401.0\n",
       "dtype: float64"
      ]
     },
     "execution_count": 4,
     "metadata": {},
     "output_type": "execute_result"
    }
   ],
   "source": [
    "# Gender counts for admissions\n",
    "observed_adm_gender"
   ]
  },
  {
   "cell_type": "code",
   "execution_count": 5,
   "metadata": {},
   "outputs": [
    {
     "name": "stdout",
     "output_type": "stream",
     "text": [
      "Chi2 statistic: 151.01063276210112, p-value: 1.0424716293902935e-34\n"
     ]
    }
   ],
   "source": [
    "import scipy.stats as stats\n",
    "\n",
    "# Calculate the total applicants\n",
    "total_app_gender = observed_app_gender.sum()\n",
    "\n",
    "# Calculate the expected admissions by gender propotions of applicants\n",
    "expected_adm = (observed_app_gender / total_app_gender) * observed_adm_gender.sum()\n",
    "\n",
    "chi2_adm, p_adm = stats.chisquare(f_obs=observed_adm_gender, f_exp=expected_adm)\n",
    "print(f\"Chi2 statistic: {chi2_adm}, p-value: {p_adm}\")"
   ]
  },
  {
   "cell_type": "markdown",
   "metadata": {},
   "source": [
    "**Test over each year:**"
   ]
  },
  {
   "cell_type": "code",
   "execution_count": 6,
   "metadata": {},
   "outputs": [
    {
     "name": "stdout",
     "output_type": "stream",
     "text": [
      "2016 - Chi2 statistic: 6.6909367562669, p-value: 0.009690427294448939\n",
      "2017 - Chi2 statistic: 2.0644056444608867, p-value: 0.15077370241519603\n",
      "2018 - Chi2 statistic: 1.2370309908513248, p-value: 0.26604402244554654\n",
      "2019 - Chi2 statistic: 6.9519884050029495, p-value: 0.008372612190307988\n",
      "2020 - Chi2 statistic: 10.862275429610392, p-value: 0.0009814303302985831\n",
      "2021 - Chi2 statistic: 53.62328908660018, p-value: 2.4286330005664483e-13\n",
      "2022 - Chi2 statistic: 62.37158889309555, p-value: 2.8439661969341823e-15\n",
      "2023 - Chi2 statistic: 59.14647319255896, p-value: 1.4636143772073543e-14\n"
     ]
    }
   ],
   "source": [
    "for year in years:\n",
    "    # Count the genders of applicants and addmissions\n",
    "    observed_adm_gender = merged_years[year][merged_years[year]['status'] == 'Adm'][['Female', 'Male']].sum()\n",
    "    observed_app_gender = merged_years[year][merged_years[year]['status'] == 'App'][['Female', 'Male']].sum()\n",
    "    \n",
    "    total_app_gender = observed_app_gender.sum()\n",
    "    \n",
    "    # Calculate the expected admissions by gender propotions of applicants\n",
    "    expected_adm = (observed_app_gender / total_app_gender) * observed_adm_gender.sum()\n",
    "    \n",
    "    chi2_adm, p_adm = stats.chisquare(f_obs=observed_adm_gender, f_exp=expected_adm)\n",
    "    print(f\"{year} - Chi2 statistic: {chi2_adm}, p-value: {p_adm}\")"
   ]
  },
  {
   "cell_type": "markdown",
   "metadata": {},
   "source": [
    "**Analysis:**\n",
    "\n",
    "1. The combined datasets from 2016 to 2023:\n",
    "\n",
    "> The chi-square statistic measures the discrepancy between the observed and expected frequencies. In this case, a chi-square statistic of $156.334$ is quite high, indicating a large difference between the observed and expected admission counts by gender.\n",
    "\n",
    "> Given that the `p-value` is significantly smaller than $0.005$, we reject the null hypothesis. This means there is strong evidence that the observed distribution of admissions by gender does not match the expected distribution based on the application proportion. \n",
    "\n",
    "2. The individual tests for each years:\n",
    "\n",
    "> When we observe the `p-value` for each year, we see fluctuations from each years. From 2016 and 2019, the `p-value` is above $0.005$, suggesting that the observed distribution of admissions by gender matches the expected distribution based on the application proportion. However, in most of the other years, especially entering the pandemic era, the `p-value` strongly suggests that there's a relationship between gender and admission. "
   ]
  },
  {
   "cell_type": "markdown",
   "metadata": {},
   "source": [
    "#### 2. Race"
   ]
  },
  {
   "cell_type": "markdown",
   "metadata": {},
   "source": [
    "In this test, we would focus on whether the admission counts are affected by races. \n",
    "\n",
    "Null hypothesis $H_0$: The observed distributions of admissions by races match the expected distribution based on the proportions of applications by races."
   ]
  },
  {
   "cell_type": "markdown",
   "metadata": {},
   "source": [
    "**Test combining over years:**"
   ]
  },
  {
   "cell_type": "code",
   "execution_count": 9,
   "metadata": {},
   "outputs": [
    {
     "data": {
      "text/plain": [
       "African American     15911.0\n",
       "American Indian         41.0\n",
       "Hispanic/ Latinx    126780.0\n",
       "Pacific Islander        17.0\n",
       "Asian               125226.0\n",
       "White                54830.0\n",
       "Domestic Unknown      3761.0\n",
       "Int'l                 1329.0\n",
       "dtype: float64"
      ]
     },
     "execution_count": 9,
     "metadata": {},
     "output_type": "execute_result"
    }
   ],
   "source": [
    "races = ['African American', 'American Indian', 'Hispanic/ Latinx', 'Pacific Islander', 'Asian', 'White', 'Domestic Unknown', 'Int\\'l']\n",
    "\n",
    "# Count the races of applicants and addmissions\n",
    "observed_adm_race = combined_years[combined_years['status'] == 'Adm'][races].sum()\n",
    "observed_app_race = combined_years[combined_years['status'] == 'App'][races].sum()\n",
    "\n",
    "# Race counts for applicants\n",
    "observed_adm_race"
   ]
  },
  {
   "cell_type": "code",
   "execution_count": 10,
   "metadata": {},
   "outputs": [
    {
     "data": {
      "text/plain": [
       "African American     31055.0\n",
       "American Indian         85.0\n",
       "Hispanic/ Latinx    211196.0\n",
       "Pacific Islander        44.0\n",
       "Asian               168244.0\n",
       "White                85010.0\n",
       "Domestic Unknown      5153.0\n",
       "Int'l                 1604.0\n",
       "dtype: float64"
      ]
     },
     "execution_count": 10,
     "metadata": {},
     "output_type": "execute_result"
    }
   ],
   "source": [
    "# Race counts for admissions\n",
    "observed_app_race"
   ]
  },
  {
   "cell_type": "code",
   "execution_count": 12,
   "metadata": {},
   "outputs": [
    {
     "name": "stdout",
     "output_type": "stream",
     "text": [
      "Chi2 statistic: 4128.724616605838, p-value: 0.0\n"
     ]
    }
   ],
   "source": [
    "# Calculate the total applicants\n",
    "total_app_race = observed_app_race.sum()\n",
    "\n",
    "# Calculate the expected admissions by race propotions of applicants\n",
    "expected_adm_race = (observed_app_race / total_app_race) * observed_adm_race.sum()\n",
    "\n",
    "chi2_race, p_race = stats.chisquare(f_obs=observed_adm_race, f_exp=expected_adm_race)\n",
    "\n",
    "print(f\"Chi2 statistic: {chi2_race}, p-value: {p_race}\")"
   ]
  },
  {
   "cell_type": "markdown",
   "metadata": {},
   "source": [
    "**Test over each year:**"
   ]
  },
  {
   "cell_type": "code",
   "execution_count": 13,
   "metadata": {},
   "outputs": [
    {
     "name": "stdout",
     "output_type": "stream",
     "text": [
      "2016 - Chi2 statistic: 254.15219797266369, p-value: 3.619888684018112e-51\n",
      "2017 - Chi2 statistic: 106.39029502958431, p-value: 5.143332640731386e-20\n",
      "2018 - Chi2 statistic: 86.20582178442841, p-value: 7.424327901914899e-16\n",
      "2019 - Chi2 statistic: 11.934116886577225, p-value: 0.10274639344358868\n",
      "2020 - Chi2 statistic: 73.07340622110175, p-value: 3.527427950188013e-13\n",
      "2021 - Chi2 statistic: 32.04646317489002, p-value: 3.981820356480029e-05\n",
      "2022 - Chi2 statistic: 59.55080935096963, p-value: 1.85569808006444e-10\n",
      "2023 - Chi2 statistic: 110.96888978326466, p-value: 5.779820482075561e-21\n"
     ]
    }
   ],
   "source": [
    "for year in years:\n",
    "    # Calculate the observed frequencies for each race in admissions\n",
    "    observed_adm_race = merged_years[year][merged_years[year]['status'] == 'Adm'][races].sum()\n",
    "    \n",
    "    # Calculate the observed frequencies for each race in applications\n",
    "    observed_adm_race = merged_years[year][merged_years[year]['status'] == 'App'][races].sum()\n",
    "    \n",
    "    # Calculate the total number of applicants\n",
    "    total_app_race = observed_app_race.sum()\n",
    "    \n",
    "    # Calculate the expected admissions based on the proportions of applications\n",
    "    expected_adm_race = (observed_app_race / total_app_race) * observed_adm_race.sum()\n",
    "    \n",
    "    # Ensure the sums match\n",
    "    observed_adm_sum = observed_adm_race.sum()\n",
    "    expected_adm_sum = expected_adm_race.sum()\n",
    "    \n",
    "    # Adjust the expected frequencies to ensure they match the observed sum\n",
    "    if not observed_adm_sum == expected_adm_sum:\n",
    "        expected_adm_race *= (observed_adm_sum / expected_adm_sum)\n",
    "    \n",
    "    # Handle zero expected frequencies by replacing them with a small value\n",
    "    expected_adm_race[expected_adm_race == 0] = 1e-10\n",
    "    \n",
    "    chi2_race, p_race = stats.chisquare(f_obs=observed_adm_race, f_exp=expected_adm_race)\n",
    "    print(f\"{year} - Chi2 statistic: {chi2_race}, p-value: {p_race}\")"
   ]
  },
  {
   "cell_type": "markdown",
   "metadata": {},
   "source": [
    "**Analysis:**\n",
    "\n",
    "1. The combined datasets from 2016 to 2023:\n",
    "\n",
    "> The chi-square statistic measures the discrepancy between the observed and expected frequencies. In this case, a chi-square statistic of $3452.518$ is quite high, indicating a large difference between the observed and expected admission counts by races.\n",
    "\n",
    "> Given that the `p-value` is significantly smaller than $0.005$, we reject the null hypothesis. This means there is strong evidence that the observed distribution of admissions by race does not match the expected distribution based on the application proportion. Also, since the `p-value` is $0$, which is a rare occasion, we need to take a look in test over each year.\n",
    "\n",
    "2. The individual tests for each years:\n",
    "\n",
    "> When we observe the `p-value` for each year, we see fluctuations from each years, but every year except 2019 the `p-value` is significant small, which explain why the `p-value` in test over combining years becomes $0$. It also strongly suggests that there's a relationship between race and admission. "
   ]
  },
  {
   "cell_type": "markdown",
   "metadata": {},
   "source": [
    "#### 3. Household Income"
   ]
  },
  {
   "cell_type": "markdown",
   "metadata": {},
   "source": [
    "In this test, we would focus on whether the admission counts are affected by income level. \n",
    "\n",
    "Null hypothesis $H_0$: The observed distributions of admissions by income level match the expected distribution based on the proportions of applications by income level.\n",
    "\n",
    "To group the income level, we will define the income bins and lables scaling by $10000$:"
   ]
  },
  {
   "cell_type": "code",
   "execution_count": 14,
   "metadata": {},
   "outputs": [],
   "source": [
    "# Define the income bins and labels\n",
    "bins = np.arange(0, combined_years['Household Income'].max() + 10000, 10000)\n",
    "labels = [f'{int(b)}-{int(b+10000)}' for b in bins[:-1]]"
   ]
  },
  {
   "cell_type": "markdown",
   "metadata": {},
   "source": [
    "**Test combining over years:**"
   ]
  },
  {
   "cell_type": "code",
   "execution_count": 15,
   "metadata": {},
   "outputs": [
    {
     "name": "stdout",
     "output_type": "stream",
     "text": [
      "Chi2 statistic: 5e-10, p-value: 1.0\n"
     ]
    }
   ],
   "source": [
    "# Group the income into bins\n",
    "combined_years['Income Group'] = pd.cut(combined_years['Household Income'], bins=bins, labels=labels, right=False)\n",
    "\n",
    "# Calculate the observed frequencies for each income group in admissions and applications\n",
    "observed_adm_income = combined_years[combined_years['status'] == 'Adm']['Income Group'].value_counts().sort_index()\n",
    "observed_app_income = combined_years[combined_years['status'] == 'App']['Income Group'].value_counts().sort_index()\n",
    "\n",
    "# Calculate the total number of applicants\n",
    "total_app_income = observed_app_income.sum()\n",
    "\n",
    "# Calculate the expected admissions based on the proportions of applications\n",
    "expected_adm_income = (observed_app_income / total_app_income) * observed_adm_income.sum()\n",
    "\n",
    "# Ensure the sums match\n",
    "observed_adm_sum = observed_adm_income.sum()\n",
    "expected_adm_sum = expected_adm_income.sum()\n",
    "\n",
    "# Adjust the expected frequencies to ensure they match the observed sum\n",
    "if not observed_adm_sum == expected_adm_sum:\n",
    "    expected_adm_income *= (observed_adm_sum / expected_adm_sum)\n",
    "\n",
    "# Handle zero expected frequencies by replacing them with a small value\n",
    "expected_adm_income[expected_adm_income == 0] = 1e-10\n",
    "\n",
    "# Perform the chi-square goodness of fit test for income\n",
    "chi2_income, p_income = stats.chisquare(f_obs=observed_adm_income, f_exp=expected_adm_income)\n",
    "print(f\"Chi2 statistic: {chi2_income}, p-value: {p_income}\")"
   ]
  },
  {
   "cell_type": "markdown",
   "metadata": {},
   "source": [
    "**Test over each year:**"
   ]
  },
  {
   "cell_type": "code",
   "execution_count": 17,
   "metadata": {},
   "outputs": [],
   "source": [
    "import warnings\n",
    "warnings.filterwarnings('ignore')"
   ]
  },
  {
   "cell_type": "code",
   "execution_count": 18,
   "metadata": {},
   "outputs": [
    {
     "name": "stdout",
     "output_type": "stream",
     "text": [
      "2016 - Chi2 statistic: 5e-10, p-value: 1.0\n",
      "2017 - Chi2 statistic: 5e-10, p-value: 1.0\n",
      "2018 - Chi2 statistic: 5e-10, p-value: 1.0\n",
      "2019 - Chi2 statistic: 5e-10, p-value: 1.0\n",
      "2020 - Chi2 statistic: 5e-10, p-value: 1.0\n",
      "2021 - Chi2 statistic: 5e-10, p-value: 1.0\n",
      "2022 - Chi2 statistic: 5e-10, p-value: 1.0\n",
      "2023 - Chi2 statistic: 5e-10, p-value: 1.0\n"
     ]
    }
   ],
   "source": [
    "for year in years:\n",
    "    # Group the income into bins\n",
    "    merged_years[year]['Income Group'] = pd.cut(merged_years[year]['Household Income'], bins=bins, labels=labels, right=False)\n",
    "    \n",
    "    # Calculate the observed frequencies for each income group in admissions and applications\n",
    "    observed_adm_income = merged_years[year][merged_years[year]['status'] == 'Adm'].groupby('Income Group').size().reindex(labels, fill_value=0)\n",
    "    observed_app_income = merged_years[year][merged_years[year]['status'] == 'App'].groupby('Income Group').size().reindex(labels, fill_value=0)\n",
    "    \n",
    "    # Calculate the total number of applicants\n",
    "    total_app_income = observed_app_income.sum()\n",
    "    \n",
    "    # Calculate the expected admissions based on the proportions of applications\n",
    "    expected_adm_income = (observed_app_income / total_app_income) * observed_adm_income.sum()\n",
    "    \n",
    "    # Ensure the sums match\n",
    "    observed_adm_sum = observed_adm_income.sum()\n",
    "    expected_adm_sum = expected_adm_income.sum()\n",
    "    \n",
    "    # Adjust the expected frequencies to ensure they match the observed sum\n",
    "    if not observed_adm_sum == expected_adm_sum:\n",
    "        expected_adm_income *= (observed_adm_sum / expected_adm_sum)\n",
    "    \n",
    "    # Handle zero expected frequencies by replacing them with a small value\n",
    "    expected_adm_income[expected_adm_income == 0] = 1e-10\n",
    "    \n",
    "    # Perform the chi-square goodness of fit test for income\n",
    "    chi2_income, p_income = stats.chisquare(f_obs=observed_adm_income, f_exp=expected_adm_income)\n",
    "    print(f\"{year} - Chi2 statistic: {chi2_income}, p-value: {p_income}\")"
   ]
  },
  {
   "cell_type": "markdown",
   "metadata": {},
   "source": [
    "**Analysis:**\n",
    "\n",
    "1. The combined datasets from 2016 to 2023:\n",
    "\n",
    "> The chi-square statistic measures the discrepancy between the observed and expected frequencies. In this case, a chi-square statistic of $0.2523$ is quite low, indicating there is no much difference between the observed and expected admission counts by income level.\n",
    "\n",
    "> Given that the `p-value` is larger than $0.005$, we failed to reject the null hypothesis. This means there is strong evidence that the observed distribution of admissions by income level matches the expected distribution based on the application proportion.\n",
    "\n",
    "2. The individual tests for each years:\n",
    "\n",
    "> When we observe the `p-value` for each year, we do not see much fluctuations from each years. Hence, It strongly suggests that there's no relationship between income level and admission. "
   ]
  },
  {
   "cell_type": "markdown",
   "metadata": {},
   "source": [
    "**Conclusion:**\n",
    "\n",
    "> Based on our goodness-of-fit tests, we find that without considering GPA, students' household income level does not play as a factor of students' admission. However, the test suggests that there is strong evidence that the observed distribution of admissions by race does not match the expected distribution based on the application proportion, and we also find this phenomenon in tests on gender over most of the years, especially in recent years. Hence, if GPA of the students in each categories considered similar, the UC system should work on the admission differences by these factors."
   ]
  }
 ],
 "metadata": {
  "kernelspec": {
   "display_name": "Python 3 (ipykernel)",
   "language": "python",
   "name": "python3"
  },
  "language_info": {
   "codemirror_mode": {
    "name": "ipython",
    "version": 3
   },
   "file_extension": ".py",
   "mimetype": "text/x-python",
   "name": "python",
   "nbconvert_exporter": "python",
   "pygments_lexer": "ipython3",
   "version": "3.10.9"
  }
 },
 "nbformat": 4,
 "nbformat_minor": 4
}
