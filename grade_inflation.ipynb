{
 "cells": [
  {
   "cell_type": "code",
   "execution_count": 1,
   "id": "442f75b9-dbf8-41b8-a02e-832c6b616e35",
   "metadata": {},
   "outputs": [],
   "source": [
    "%%capture\n",
    "%run merging_data.ipynb"
   ]
  },
  {
   "cell_type": "code",
   "execution_count": null,
   "id": "56de97c9-467f-4e07-a948-a7678020975c",
   "metadata": {},
   "outputs": [],
   "source": [
    "#concat gpa dfs, filter dfs for only necessary data, change get adm/enrolled/applied a\n",
    "\n",
    "gpa_all_years = pd.concat(gpa.values(), keys=gpa.keys(), names=['Year'])\n",
    "gpa_filtered = gpa_all_years[['School', 'Measure Names', 'Measure Values']].reset_index()\n",
    "gpa_pivot = gpa_filtered.pivot_table(index=['Year', 'School'], columns='Measure Names', values='Measure Values').reset_index()\n",
    "gpa_annual_avg = gpa_pivot.groupby('Year').mean(numeric_only=True).reset_index()\n",
    "\n",
    "plt.figure(figsize=(12, 6))\n",
    "\n",
    "plt.plot(gpa_annual_avg['Year'], gpa_annual_avg['Enrl GPA'], label='Enrolled GPA')\n",
    "plt.plot(gpa_annual_avg['Year'], gpa_annual_avg['Adm GPA'], label='Admitted GPA')\n",
    "plt.plot(gpa_annual_avg['Year'], gpa_annual_avg['App GPA'], label='Applied GPA')\n",
    "\n",
    "plt.xlabel('Year')\n",
    "plt.ylabel('GPA')\n",
    "plt.title('GPA Trends Over Years')\n",
    "plt.legend()\n",
    "plt.show()\n",
    "\n"
   ]
  },
  {
   "cell_type": "markdown",
   "id": "f430fd96-5387-48c0-b35e-049d2136a452",
   "metadata": {},
   "source": [
    "We definitely see an upward trend in the least seven years, but is it a statistically significant increase? Let assess the signifcance by fitting the following regressions.\n",
    "\n",
    "$$\n",
    "\\text{adm\\_gpa} = \\beta_0 + \\beta_1\\text{year}\n",
    "$$\n",
    "\n",
    "$$\n",
    "\\text{applied\\_gpa} = \\beta_0 + \\beta_1\\text{year}\n",
    "$$\n",
    "\n",
    "$$\n",
    "\\text{enrolled\\_gpa} = \\beta_0 + \\beta_1\\text{year}\n",
    "$$"
   ]
  },
  {
   "cell_type": "code",
   "execution_count": null,
   "id": "f3166600-362a-4197-8307-1218189a621c",
   "metadata": {},
   "outputs": [],
   "source": [
    "gpa_annual_avg['Year'] = gpa_annual_avg['Year'].astype(int)\n",
    "\n",
    "# Prepare the independent variable (years) with an intercept\n",
    "X = sm.add_constant(gpa_annual_avg['Year'])\n",
    "\n",
    "# Dependent variables \n",
    "y_enrl = gpa_annual_avg['Enrl GPA']\n",
    "y_adm = gpa_annual_avg['Adm GPA']\n",
    "y_app = gpa_annual_avg['App GPA']\n",
    "\n",
    "#Enrolled GPA model\n",
    "model_enrl = sm.OLS(y_enrl, X).fit()\n",
    "\n",
    "#Admitted GPA model\n",
    "model_adm = sm.OLS(y_adm, X).fit()\n",
    "\n",
    "#Applied GPA model\n",
    "model_app = sm.OLS(y_app, X).fit()\n",
    "\n",
    "# model summaries\n",
    "print(\"Enrolled GPA Model Summary:\")\n",
    "print(model_enrl.summary())\n",
    "\n",
    "print(\"\\nAdmitted GPA Model Summary:\")\n",
    "print(model_adm.summary())\n",
    "\n",
    "print(\"\\nApplied GPA Model Summary:\")\n",
    "print(model_app.summary())"
   ]
  },
  {
   "cell_type": "markdown",
   "id": "3a48b5ac-641c-4037-ac74-ea47979a39c1",
   "metadata": {},
   "source": [
    "We can see that the gpa of those enrolled and those who applied does \n",
    "increase significantly (at the 95% significance level). But the gpa of \n",
    "those who were admitted has not increased significantly (at the 95% \n",
    "significance level). What do we make of this? Come back to this later."
   ]
  },
  {
   "cell_type": "code",
   "execution_count": null,
   "id": "5fa6097e-353c-4451-942f-5d47816155c1",
   "metadata": {},
   "outputs": [],
   "source": []
  }
 ],
 "metadata": {
  "kernelspec": {
   "display_name": "Python 3 (ipykernel)",
   "language": "python",
   "name": "python3"
  },
  "language_info": {
   "codemirror_mode": {
    "name": "ipython",
    "version": 3
   },
   "file_extension": ".py",
   "mimetype": "text/x-python",
   "name": "python",
   "nbconvert_exporter": "python",
   "pygments_lexer": "ipython3",
   "version": "3.11.7"
  }
 },
 "nbformat": 4,
 "nbformat_minor": 5
}
